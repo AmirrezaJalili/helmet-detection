{
 "cells": [
  {
   "cell_type": "code",
   "execution_count": 3,
   "metadata": {
    "colab": {
     "base_uri": "https://localhost:8080/"
    },
    "id": "loe2-Awj_nf1",
    "outputId": "fcb8cddf-c3b1-409b-d2dc-6b0e0012ea8f"
   },
   "outputs": [
    {
     "name": "stdout",
     "output_type": "stream",
     "text": [
      "Ultralytics YOLOv8.2.2 🚀 Python-3.10.12 torch-2.2.1+cu121 CUDA:0 (Tesla T4, 15102MiB)\n",
      "Setup complete ✅ (2 CPUs, 12.7 GB RAM, 29.0/78.2 GB disk)\n"
     ]
    }
   ],
   "source": [
    "import ultralytics\n",
    "ultralytics.checks()"
   ]
  },
  {
   "cell_type": "code",
   "execution_count": 4,
   "metadata": {
    "id": "D7N7pKxd_uXn"
   },
   "outputs": [],
   "source": [
    "from google.colab import drive"
   ]
  },
  {
   "cell_type": "code",
   "execution_count": 5,
   "metadata": {
    "colab": {
     "base_uri": "https://localhost:8080/"
    },
    "id": "-wP-j_kNABdR",
    "outputId": "371e44bc-98d7-4495-8fa9-a967156ef93a"
   },
   "outputs": [
    {
     "name": "stdout",
     "output_type": "stream",
     "text": [
      "Mounted at /content/gdrive\n"
     ]
    }
   ],
   "source": [
    "drive.mount('/content/gdrive')"
   ]
  },
  {
   "cell_type": "code",
   "execution_count": 6,
   "metadata": {
    "id": "EhfOvz-KAQRD"
   },
   "outputs": [],
   "source": [
    "import os\n",
    "os.chdir(\"gdrive/MyDrive/yolov8\")\n"
   ]
  },
  {
   "cell_type": "code",
   "execution_count": 7,
   "metadata": {
    "colab": {
     "base_uri": "https://localhost:8080/"
    },
    "id": "OXkjNcqcAw3Z",
    "outputId": "ee8c3d65-b801-437b-858c-4a3a903c07be"
   },
   "outputs": [
    {
     "name": "stdout",
     "output_type": "stream",
     "text": [
      "helmet_dataset\thelmet_dataset.zip  helmet.yaml\n"
     ]
    }
   ],
   "source": [
    "!ls helmet_data/"
   ]
  },
  {
   "cell_type": "code",
   "execution_count": null,
   "metadata": {
    "id": "LaeBAl7eAxDI"
   },
   "outputs": [],
   "source": [
    "!unzip helmet_data/helmet_dataset.zip -d ./helmet_data"
   ]
  },
  {
   "cell_type": "code",
   "execution_count": 8,
   "metadata": {
    "colab": {
     "base_uri": "https://localhost:8080/"
    },
    "id": "eDR2MPk1AxOQ",
    "outputId": "174bd4a7-1646-4c54-b197-a18385f6fa11"
   },
   "outputs": [
    {
     "name": "stdout",
     "output_type": "stream",
     "text": [
      "helmet_dataset\thelmet_dataset.zip  helmet.yaml\n"
     ]
    }
   ],
   "source": [
    "!ls helmet_data/"
   ]
  },
  {
   "cell_type": "code",
   "execution_count": 9,
   "metadata": {
    "colab": {
     "base_uri": "https://localhost:8080/"
    },
    "id": "tNJ87_h0Axl6",
    "outputId": "da17769a-1cd5-4fb7-ee4b-29b267116a52"
   },
   "outputs": [
    {
     "name": "stdout",
     "output_type": "stream",
     "text": [
      "/content/gdrive/MyDrive/yolov8/helmet_data\n"
     ]
    }
   ],
   "source": [
    "%cd helmet_data"
   ]
  },
  {
   "cell_type": "code",
   "execution_count": 16,
   "metadata": {
    "colab": {
     "base_uri": "https://localhost:8080/"
    },
    "id": "srn493kuAyir",
    "outputId": "c2f0daa8-61e8-4ce4-f15e-9f8bb4f3f295"
   },
   "outputs": [
    {
     "name": "stdout",
     "output_type": "stream",
     "text": [
      "Downloading...\n",
      "From: https://drive.google.com/uc?id=1joW_me3Gtzxm4d48edbMsOpooV8snDdn\n",
      "To: /content/gdrive/MyDrive/yolov8/helmet_data/data.yaml\n",
      "\r",
      "  0% 0.00/166 [00:00<?, ?B/s]\r",
      "100% 166/166 [00:00<00:00, 789kB/s]\n"
     ]
    }
   ],
   "source": [
    "!gdown https://drive.google.com/uc?id=1joW_me3Gtzxm4d48edbMsOpooV8snDdn"
   ]
  },
  {
   "cell_type": "code",
   "execution_count": 17,
   "metadata": {
    "colab": {
     "base_uri": "https://localhost:8080/"
    },
    "id": "EAvYKQbtAypq",
    "outputId": "973ee90a-0a17-4136-fcf5-c758d3b8ff49"
   },
   "outputs": [
    {
     "name": "stdout",
     "output_type": "stream",
     "text": [
      "helmet_dataset\thelmet_dataset.zip  helmet.yaml\n"
     ]
    }
   ],
   "source": [
    "import os\n",
    "os.rename(\"data.yaml\", \"helmet.yaml\")\n",
    "\n",
    "!ls"
   ]
  },
  {
   "cell_type": "code",
   "execution_count": 18,
   "metadata": {
    "colab": {
     "base_uri": "https://localhost:8080/"
    },
    "id": "mVCvu4Xr6gnY",
    "outputId": "da140254-3353-42f5-ef02-1bf9f5d9d798"
   },
   "outputs": [
    {
     "name": "stdout",
     "output_type": "stream",
     "text": [
      "/content/gdrive/MyDrive/yolov8/helmet_data\n"
     ]
    }
   ],
   "source": [
    "print(os.getcwd())"
   ]
  },
  {
   "cell_type": "code",
   "execution_count": 10,
   "metadata": {
    "colab": {
     "base_uri": "https://localhost:8080/"
    },
    "id": "rrGalNep682x",
    "outputId": "5b01167d-ddbc-4d73-eb71-9361700c6ce3"
   },
   "outputs": [
    {
     "name": "stdout",
     "output_type": "stream",
     "text": [
      "/content/gdrive/MyDrive/yolov8\n"
     ]
    }
   ],
   "source": [
    "%cd ../"
   ]
  },
  {
   "cell_type": "code",
   "execution_count": 12,
   "metadata": {
    "colab": {
     "base_uri": "https://localhost:8080/"
    },
    "id": "VDXOZwxe69BT",
    "outputId": "9cf17748-cf5c-4c6f-fbca-afbb378ea59f"
   },
   "outputs": [
    {
     "name": "stdout",
     "output_type": "stream",
     "text": [
      "Ultralytics YOLOv8.2.2 🚀 Python-3.10.12 torch-2.2.1+cu121 CUDA:0 (Tesla T4, 15102MiB)\n",
      "\u001b[34m\u001b[1mengine/trainer: \u001b[0mtask=detect, mode=train, model=yolov8m.pt, data=helmet_data/helmet.yaml, epochs=100, time=None, patience=50, batch=16, imgsz=640, save=True, save_period=-1, cache=False, device=0, workers=8, project=None, name=yolov8_helmet_gpu, exist_ok=False, pretrained=True, optimizer=auto, verbose=True, seed=0, deterministic=True, single_cls=False, rect=False, cos_lr=False, close_mosaic=10, resume=False, amp=True, fraction=1.0, profile=False, freeze=None, multi_scale=False, overlap_mask=True, mask_ratio=4, dropout=0.0, val=True, split=val, save_json=False, save_hybrid=False, conf=None, iou=0.7, max_det=300, half=False, dnn=False, plots=True, source=None, vid_stride=1, stream_buffer=False, visualize=False, augment=False, agnostic_nms=False, classes=None, retina_masks=False, embed=None, show=False, save_frames=False, save_txt=False, save_conf=False, save_crop=False, show_labels=True, show_conf=True, show_boxes=True, line_width=None, format=torchscript, keras=False, optimize=False, int8=False, dynamic=False, simplify=False, opset=None, workspace=4, nms=False, lr0=0.01, lrf=0.01, momentum=0.937, weight_decay=0.0005, warmup_epochs=3.0, warmup_momentum=0.8, warmup_bias_lr=0.1, box=7.5, cls=0.5, dfl=1.5, pose=12.0, kobj=1.0, label_smoothing=0.0, nbs=64, hsv_h=0.015, hsv_s=0.7, hsv_v=0.4, degrees=0.0, translate=0.1, scale=0.5, shear=0.0, perspective=0.0, flipud=0.0, fliplr=0.5, bgr=0.0, mosaic=1.0, mixup=0.0, copy_paste=0.0, auto_augment=randaugment, erasing=0.4, crop_fraction=1.0, cfg=None, tracker=botsort.yaml, save_dir=runs/detect/yolov8_helmet_gpu\n",
      "2024-04-23 12:56:14.140477: E external/local_xla/xla/stream_executor/cuda/cuda_dnn.cc:9261] Unable to register cuDNN factory: Attempting to register factory for plugin cuDNN when one has already been registered\n",
      "2024-04-23 12:56:14.140538: E external/local_xla/xla/stream_executor/cuda/cuda_fft.cc:607] Unable to register cuFFT factory: Attempting to register factory for plugin cuFFT when one has already been registered\n",
      "2024-04-23 12:56:14.141900: E external/local_xla/xla/stream_executor/cuda/cuda_blas.cc:1515] Unable to register cuBLAS factory: Attempting to register factory for plugin cuBLAS when one has already been registered\n",
      "Overriding model.yaml nc=80 with nc=3\n",
      "\n",
      "                   from  n    params  module                                       arguments                     \n",
      "  0                  -1  1      1392  ultralytics.nn.modules.conv.Conv             [3, 48, 3, 2]                 \n",
      "  1                  -1  1     41664  ultralytics.nn.modules.conv.Conv             [48, 96, 3, 2]                \n",
      "  2                  -1  2    111360  ultralytics.nn.modules.block.C2f             [96, 96, 2, True]             \n",
      "  3                  -1  1    166272  ultralytics.nn.modules.conv.Conv             [96, 192, 3, 2]               \n",
      "  4                  -1  4    813312  ultralytics.nn.modules.block.C2f             [192, 192, 4, True]           \n",
      "  5                  -1  1    664320  ultralytics.nn.modules.conv.Conv             [192, 384, 3, 2]              \n",
      "  6                  -1  4   3248640  ultralytics.nn.modules.block.C2f             [384, 384, 4, True]           \n",
      "  7                  -1  1   1991808  ultralytics.nn.modules.conv.Conv             [384, 576, 3, 2]              \n",
      "  8                  -1  2   3985920  ultralytics.nn.modules.block.C2f             [576, 576, 2, True]           \n",
      "  9                  -1  1    831168  ultralytics.nn.modules.block.SPPF            [576, 576, 5]                 \n",
      " 10                  -1  1         0  torch.nn.modules.upsampling.Upsample         [None, 2, 'nearest']          \n",
      " 11             [-1, 6]  1         0  ultralytics.nn.modules.conv.Concat           [1]                           \n",
      " 12                  -1  2   1993728  ultralytics.nn.modules.block.C2f             [960, 384, 2]                 \n",
      " 13                  -1  1         0  torch.nn.modules.upsampling.Upsample         [None, 2, 'nearest']          \n",
      " 14             [-1, 4]  1         0  ultralytics.nn.modules.conv.Concat           [1]                           \n",
      " 15                  -1  2    517632  ultralytics.nn.modules.block.C2f             [576, 192, 2]                 \n",
      " 16                  -1  1    332160  ultralytics.nn.modules.conv.Conv             [192, 192, 3, 2]              \n",
      " 17            [-1, 12]  1         0  ultralytics.nn.modules.conv.Concat           [1]                           \n",
      " 18                  -1  2   1846272  ultralytics.nn.modules.block.C2f             [576, 384, 2]                 \n",
      " 19                  -1  1   1327872  ultralytics.nn.modules.conv.Conv             [384, 384, 3, 2]              \n",
      " 20             [-1, 9]  1         0  ultralytics.nn.modules.conv.Concat           [1]                           \n",
      " 21                  -1  2   4207104  ultralytics.nn.modules.block.C2f             [960, 576, 2]                 \n",
      " 22        [15, 18, 21]  1   3777433  ultralytics.nn.modules.head.Detect           [3, [192, 384, 576]]          \n",
      "Model summary: 295 layers, 25858057 parameters, 25858041 gradients, 79.1 GFLOPs\n",
      "\n",
      "Transferred 469/475 items from pretrained weights\n",
      "\u001b[34m\u001b[1mTensorBoard: \u001b[0mStart with 'tensorboard --logdir runs/detect/yolov8_helmet_gpu', view at http://localhost:6006/\n",
      "Freezing layer 'model.22.dfl.conv.weight'\n",
      "\u001b[34m\u001b[1mAMP: \u001b[0mrunning Automatic Mixed Precision (AMP) checks with YOLOv8n...\n",
      "\u001b[34m\u001b[1mAMP: \u001b[0mchecks passed ✅\n",
      "\u001b[34m\u001b[1mtrain: \u001b[0mScanning /content/gdrive/MyDrive/yolov8/helmet_data/helmet_dataset/labels/train.cache... 4000 images, 0 backgrounds, 0 corrupt: 100% 4000/4000 [00:00<?, ?it/s]\n",
      "\u001b[34m\u001b[1malbumentations: \u001b[0mBlur(p=0.01, blur_limit=(3, 7)), MedianBlur(p=0.01, blur_limit=(3, 7)), ToGray(p=0.01), CLAHE(p=0.01, clip_limit=(1, 4.0), tile_grid_size=(8, 8))\n",
      "/usr/lib/python3.10/multiprocessing/popen_fork.py:66: RuntimeWarning: os.fork() was called. os.fork() is incompatible with multithreaded code, and JAX is multithreaded, so this will likely lead to a deadlock.\n",
      "  self.pid = os.fork()\n",
      "\u001b[34m\u001b[1mval: \u001b[0mScanning /content/gdrive/MyDrive/yolov8/helmet_data/helmet_dataset/labels/val.cache... 500 images, 0 backgrounds, 0 corrupt: 100% 500/500 [00:00<?, ?it/s]\n",
      "Plotting labels to runs/detect/yolov8_helmet_gpu/labels.jpg... \n",
      "\u001b[34m\u001b[1moptimizer:\u001b[0m 'optimizer=auto' found, ignoring 'lr0=0.01' and 'momentum=0.937' and determining best 'optimizer', 'lr0' and 'momentum' automatically... \n",
      "\u001b[34m\u001b[1moptimizer:\u001b[0m AdamW(lr=0.001429, momentum=0.9) with parameter groups 77 weight(decay=0.0), 84 weight(decay=0.0005), 83 bias(decay=0.0)\n",
      "\u001b[34m\u001b[1mTensorBoard: \u001b[0mmodel graph visualization added ✅\n",
      "Image sizes 640 train, 640 val\n",
      "Using 2 dataloader workers\n",
      "Logging results to \u001b[1mruns/detect/yolov8_helmet_gpu\u001b[0m\n",
      "Starting training for 100 epochs...\n",
      "\n",
      "      Epoch    GPU_mem   box_loss   cls_loss   dfl_loss  Instances       Size\n",
      "      1/100       7.2G      1.475      1.273      1.284         93        640: 100% 250/250 [12:42<00:00,  3.05s/it]\n",
      "                 Class     Images  Instances      Box(P          R      mAP50  mAP50-95): 100% 16/16 [00:12<00:00,  1.28it/s]\n",
      "                   all        500       2607      0.893      0.478      0.545      0.324\n",
      "\n",
      "      Epoch    GPU_mem   box_loss   cls_loss   dfl_loss  Instances       Size\n",
      "      2/100      7.08G      1.438      1.017      1.299         80        640: 100% 250/250 [02:29<00:00,  1.68it/s]\n",
      "                 Class     Images  Instances      Box(P          R      mAP50  mAP50-95): 100% 16/16 [00:09<00:00,  1.70it/s]\n",
      "                   all        500       2607      0.906      0.514      0.572      0.338\n",
      "\n",
      "      Epoch    GPU_mem   box_loss   cls_loss   dfl_loss  Instances       Size\n",
      "      3/100      7.06G      1.438      1.022      1.311        126        640: 100% 250/250 [02:27<00:00,  1.70it/s]\n",
      "                 Class     Images  Instances      Box(P          R      mAP50  mAP50-95): 100% 16/16 [00:09<00:00,  1.75it/s]\n",
      "                   all        500       2607      0.905      0.514      0.564      0.338\n",
      "\n",
      "      Epoch    GPU_mem   box_loss   cls_loss   dfl_loss  Instances       Size\n",
      "      4/100      7.09G      1.418     0.9757      1.288         97        640: 100% 250/250 [02:26<00:00,  1.71it/s]\n",
      "                 Class     Images  Instances      Box(P          R      mAP50  mAP50-95): 100% 16/16 [00:09<00:00,  1.63it/s]\n",
      "                   all        500       2607      0.919      0.517      0.577      0.357\n",
      "\n",
      "      Epoch    GPU_mem   box_loss   cls_loss   dfl_loss  Instances       Size\n",
      "      5/100         7G      1.384     0.9086      1.271        107        640: 100% 250/250 [02:25<00:00,  1.72it/s]\n",
      "                 Class     Images  Instances      Box(P          R      mAP50  mAP50-95): 100% 16/16 [00:10<00:00,  1.56it/s]\n",
      "                   all        500       2607      0.919      0.514      0.579      0.359\n",
      "\n",
      "      Epoch    GPU_mem   box_loss   cls_loss   dfl_loss  Instances       Size\n",
      "      6/100      7.05G      1.378     0.8704      1.253        111        640:  36% 89/250 [00:51<01:32,  1.74it/s]Exception ignored in: <generator object tqdm.__iter__ at 0x7b3e372b5d90>\n",
      "Traceback (most recent call last):\n",
      "  File \"/usr/local/lib/python3.10/dist-packages/tqdm/std.py\", line 1196, in __iter__\n",
      "    self.close()\n",
      "  File \"/usr/local/lib/python3.10/dist-packages/tqdm/std.py\", line 1302, in close\n",
      "    self.display(pos=0)\n",
      "  File \"/usr/local/lib/python3.10/dist-packages/tqdm/std.py\", line 1495, in display\n",
      "    self.sp(self.__str__() if msg is None else msg)\n",
      "  File \"/usr/local/lib/python3.10/dist-packages/tqdm/std.py\", line 1151, in __str__\n",
      "    return self.format_meter(**self.format_dict)\n",
      "  File \"/usr/local/lib/python3.10/dist-packages/tqdm/std.py\", line 557, in format_meter\n",
      "    (format_sizeof(inv_rate) if unit_scale else f'{inv_rate:5.2f}')\n",
      "KeyboardInterrupt: \n",
      "Traceback (most recent call last):\n",
      "  File \"/usr/local/bin/yolo\", line 8, in <module>\n",
      "    sys.exit(entrypoint())\n",
      "  File \"/usr/local/lib/python3.10/dist-packages/ultralytics/cfg/__init__.py\", line 582, in entrypoint\n",
      "    getattr(model, mode)(**overrides)  # default args from model\n",
      "  File \"/usr/local/lib/python3.10/dist-packages/ultralytics/engine/model.py\", line 673, in train\n",
      "    self.trainer.train()\n",
      "  File \"/usr/local/lib/python3.10/dist-packages/ultralytics/engine/trainer.py\", line 199, in train\n",
      "    self._do_train(world_size)\n",
      "  File \"/usr/local/lib/python3.10/dist-packages/ultralytics/engine/trainer.py\", line 383, in _do_train\n",
      "    self.optimizer_step()\n",
      "  File \"/usr/local/lib/python3.10/dist-packages/ultralytics/engine/trainer.py\", line 548, in optimizer_step\n",
      "    self.ema.update(self.model)\n",
      "  File \"/usr/local/lib/python3.10/dist-packages/ultralytics/utils/torch_utils.py\", line 460, in update\n",
      "    msd = de_parallel(model).state_dict()  # model state_dict\n",
      "  File \"/usr/local/lib/python3.10/dist-packages/torch/nn/modules/module.py\", line 1895, in state_dict\n",
      "    module.state_dict(destination=destination, prefix=prefix + name + '.', keep_vars=keep_vars)\n",
      "  File \"/usr/local/lib/python3.10/dist-packages/torch/nn/modules/module.py\", line 1895, in state_dict\n",
      "    module.state_dict(destination=destination, prefix=prefix + name + '.', keep_vars=keep_vars)\n",
      "  File \"/usr/local/lib/python3.10/dist-packages/torch/nn/modules/module.py\", line 1895, in state_dict\n",
      "    module.state_dict(destination=destination, prefix=prefix + name + '.', keep_vars=keep_vars)\n",
      "  [Previous line repeated 1 more time]\n",
      "  File \"/usr/local/lib/python3.10/dist-packages/torch/nn/modules/module.py\", line 1892, in state_dict\n",
      "    self._save_to_state_dict(destination, prefix, keep_vars)\n",
      "  File \"/usr/local/lib/python3.10/dist-packages/torch/nn/modules/module.py\", line -1, in _save_to_state_dict\n",
      "KeyboardInterrupt\n"
     ]
    }
   ],
   "source": [
    "!yolo detect train model=yolov8m.pt data=helmet_data/helmet.yaml imgsz=640 workers=8 batch=16 device=0 epochs=100 patience=50 name=yolov8_helmet_gpu"
   ]
  },
  {
   "cell_type": "code",
   "execution_count": 14,
   "metadata": {
    "colab": {
     "base_uri": "https://localhost:8080/"
    },
    "id": "ObkcGw9-69JZ",
    "outputId": "a794b75c-5029-4263-a8c3-e060a35ca1b2"
   },
   "outputs": [
    {
     "name": "stdout",
     "output_type": "stream",
     "text": [
      "/content/gdrive/MyDrive/yolov8/inference\n"
     ]
    }
   ],
   "source": [
    "%cd inference\n"
   ]
  },
  {
   "cell_type": "code",
   "execution_count": 17,
   "metadata": {
    "id": "bJp9kB0069RG"
   },
   "outputs": [],
   "source": [
    "!mkdir helmet"
   ]
  },
  {
   "cell_type": "code",
   "execution_count": 22,
   "metadata": {
    "colab": {
     "base_uri": "https://localhost:8080/"
    },
    "id": "zhgozBenLnxh",
    "outputId": "e4209b2c-e824-43b1-b699-6dde0f2e93f9"
   },
   "outputs": [
    {
     "name": "stdout",
     "output_type": "stream",
     "text": [
      "/content/gdrive/MyDrive\n"
     ]
    }
   ],
   "source": [
    "%cd ../../"
   ]
  },
  {
   "cell_type": "code",
   "execution_count": 23,
   "metadata": {
    "colab": {
     "base_uri": "https://localhost:8080/"
    },
    "id": "SATKSF1CLrdR",
    "outputId": "5ddbe1c7-f095-4c88-cee6-d53f7687ad28"
   },
   "outputs": [
    {
     "name": "stdout",
     "output_type": "stream",
     "text": [
      "/content/gdrive/MyDrive/yolov8\n"
     ]
    }
   ],
   "source": [
    "%cd yolov8/"
   ]
  },
  {
   "cell_type": "code",
   "execution_count": 29,
   "metadata": {
    "colab": {
     "base_uri": "https://localhost:8080/"
    },
    "id": "Vjd4J16M69do",
    "outputId": "fb010094-d405-4a3d-bfcf-00ea6d42b48b"
   },
   "outputs": [
    {
     "name": "stdout",
     "output_type": "stream",
     "text": [
      "Ultralytics YOLOv8.2.2 🚀 Python-3.10.12 torch-2.2.1+cu121 CUDA:0 (Tesla T4, 15102MiB)\n",
      "Model summary (fused): 218 layers, 25841497 parameters, 0 gradients, 78.7 GFLOPs\n",
      "\n",
      "image 1/13 /content/gdrive/MyDrive/yolov8/inference/helmet/h1.jpg: 640x576 1 helmet, 72.6ms\n",
      "image 2/13 /content/gdrive/MyDrive/yolov8/inference/helmet/h2.jpg: 384x640 4 helmets, 139.5ms\n",
      "image 3/13 /content/gdrive/MyDrive/yolov8/inference/helmet/h3.jpg: 448x640 2 helmets, 89.1ms\n",
      "image 4/13 /content/gdrive/MyDrive/yolov8/inference/helmet/h4.jpg: 384x640 3 helmets, 25.7ms\n",
      "image 5/13 /content/gdrive/MyDrive/yolov8/inference/helmet/h5.jpg: 416x640 1 helmet, 75.0ms\n",
      "image 6/13 /content/gdrive/MyDrive/yolov8/inference/helmet/h6.jpg: 384x640 1 helmet, 3 heads, 26.0ms\n",
      "image 7/13 /content/gdrive/MyDrive/yolov8/inference/helmet/h7.jpg: 448x640 1 helmet, 1 head, 28.1ms\n",
      "image 8/13 /content/gdrive/MyDrive/yolov8/inference/helmet/hard_hat_workers23.png: 640x640 (no detections), 38.1ms\n",
      "image 9/13 /content/gdrive/MyDrive/yolov8/inference/helmet/hard_hat_workers3169.png: 640x640 1 helmet, 37.2ms\n",
      "image 10/13 /content/gdrive/MyDrive/yolov8/inference/helmet/hard_hat_workers3293.png: 640x640 3 helmets, 37.2ms\n",
      "image 11/13 /content/gdrive/MyDrive/yolov8/inference/helmet/hard_hat_workers334.png: 640x640 2 helmets, 37.3ms\n",
      "image 12/13 /content/gdrive/MyDrive/yolov8/inference/helmet/hard_hat_workers47.png: 640x640 3 helmets, 37.2ms\n",
      "image 13/13 /content/gdrive/MyDrive/yolov8/inference/helmet/hard_hat_workers94.png: 640x640 1 helmet, 37.2ms\n",
      "Speed: 2.9ms preprocess, 52.3ms inference, 219.3ms postprocess per image at shape (1, 3, 640, 640)\n",
      "Results saved to \u001b[1mruns/detect/predict7\u001b[0m\n",
      "💡 Learn more at https://docs.ultralytics.com/modes/predict\n"
     ]
    }
   ],
   "source": [
    "!yolo detect predict model=runs/detect/yolov8_helmet_gpu/weights/best.pt source=\"inference/helmet\" save=True"
   ]
  },
  {
   "cell_type": "code",
   "execution_count": 30,
   "metadata": {
    "id": "Oj1bAnToNRJo"
   },
   "outputs": [],
   "source": [
    "import matplotlib.pyplot as plt\n",
    "import matplotlib.image as mpimg\n",
    "\n",
    "def showImage(path):\n",
    "  img = mpimg.imread(path)\n",
    "  plt.figure(figsize=(20,20))\n",
    "  plt.axis(\"off\")\n",
    "  plt.imshow(img)\n",
    "  plt.show()\n",
    "\n",
    "def showImagesOnFolder(path):\n",
    "  for file in os.listdir(path):\n",
    "    if (file.endswith(\".png\") or file.endswith(\".jpg\")):\n",
    "      image_path = os.path.join(path, file)\n",
    "      showImage(image_path)"
   ]
  }
 ],
 "metadata": {
  "accelerator": "GPU",
  "colab": {
   "gpuType": "T4",
   "provenance": []
  },
  "kernelspec": {
   "display_name": "Python 3 (ipykernel)",
   "language": "python",
   "name": "python3"
  },
  "language_info": {
   "codemirror_mode": {
    "name": "ipython",
    "version": 3
   },
   "file_extension": ".py",
   "mimetype": "text/x-python",
   "name": "python",
   "nbconvert_exporter": "python",
   "pygments_lexer": "ipython3",
   "version": "3.10.14"
  }
 },
 "nbformat": 4,
 "nbformat_minor": 4
}
